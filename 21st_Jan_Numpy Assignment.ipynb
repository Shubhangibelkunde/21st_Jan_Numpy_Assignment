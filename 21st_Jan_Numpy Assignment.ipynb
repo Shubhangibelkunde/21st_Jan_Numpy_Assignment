{
 "cells": [
  {
   "cell_type": "code",
   "execution_count": null,
   "id": "f9b900d0-3b54-48fb-815f-0543ee872eb0",
   "metadata": {},
   "outputs": [],
   "source": [
    "1. What is a Python library? Why do we use Python libraries?"
   ]
  },
  {
   "cell_type": "code",
   "execution_count": null,
   "id": "1237d0d3-2df5-41b9-9dc4-8c8c2cc1a902",
   "metadata": {},
   "outputs": [],
   "source": [
    "Python library = \n",
    "        py library is the collection of modules and functions.\n",
    "        These libraries can be easily imported into Python scripts or programs, allowing developers \n",
    "        to leverage existing functionality without having to write the code from scratch. \n",
    "        Python libraries are designed to be reusable, modular, and extensible, making it easier for developers\n",
    "        to build complex applications by assembling various components.\n",
    "    \n",
    "why to use ? = because it has optimize function means it can be use by plenty of user at a time.\n",
    "               Code Reusability: Libraries encapsulate reusable code, saving developers time\n",
    "               and effort by providing pre-built solutions for common tasks.\n",
    "\n",
    "               Modularity: Libraries are often organized into modules, allowing developers to use only\n",
    "               the specific functionality they need without having to import the entire library.\n",
    "\n",
    "                Efficiency: Using established and optimized libraries can result in more efficient code, \n",
    "                as they are typically well-tested, debugged, and performance-tuned.\n",
    "\n",
    "                Community Contribution: Python has a large and active community of developers who contribute to the creation and maintenance of numerous libraries.\n",
    "                This collaborative effort results in a rich ecosystem of tools and resources.\n",
    "\n",
    "                Focus on Higher-Level Logic: Libraries handle lower-level details, enabling developers\n",
    "                to focus on the higher-level logic and specific requirements of their applications.\n",
    "                \n",
    "                Python libraries are essential for efficient and effective software development, \n",
    "                 providing a foundation of pre-built functionality that accelerates the creation of diverse applications."
   ]
  },
  {
   "cell_type": "code",
   "execution_count": null,
   "id": "0e12e252-c8a1-42b7-bf92-d7c6fbae5903",
   "metadata": {},
   "outputs": [],
   "source": [
    "2. What is the difference between Numpy array and List?"
   ]
  },
  {
   "cell_type": "code",
   "execution_count": null,
   "id": "9baa863e-7767-42c0-afa0-d906f75c87fc",
   "metadata": {},
   "outputs": [],
   "source": [
    "1)Homogeneity:\n",
    "    List: Lists can contain elements of different data types. Each element in a list can be of a different type.\n",
    "    \n",
    "    NumPy Array: NumPy arrays are homogeneous, meaning all elements must be of the same data type. \n",
    "    This homogeneity allows for more efficient storage and operations.\n",
    "\n",
    "2)Performance:\n",
    "    List: Lists are more flexible but can be slower for numerical operations, especially when dealing with large datasets,\n",
    "    due to Python's dynamic typing and the overhead of storing references to objects.\n",
    "    \n",
    "    NumPy Array: NumPy arrays are more efficient for numerical operations. They are implemented in C and allow for vectorized operations,\n",
    "    which can significantly improve performance for numerical computations.\n",
    "\n",
    "3)Memory Efficiency:\n",
    "    List: Lists generally consume more memory because they store not only the data but also additional information \n",
    "    such as the type and reference count for each object.\n",
    "    \n",
    "    NumPy Array: NumPy arrays are more memory-efficient as they store elements of a single data type and \n",
    "    don't need to store type information for each element.\n",
    "\n",
    "4)Functionality:\n",
    "    List: Lists provide a general-purpose collection with a variety of methods and operations. \n",
    "    However, for mathematical and numerical operations, you might need to use explicit loops.\n",
    "    \n",
    "    NumPy Array: NumPy arrays provide a wide range of mathematical functions and operations\n",
    "    (e.g., element-wise operations, linear algebra operations) that are optimized for efficiency.\n",
    "    \n",
    "5)Syntax:\n",
    "    List: Lists have a straightforward syntax and are part of the core Python language.\n",
    "    \n",
    "    NumPy Array: NumPy provides a specific numpy.array class for creating arrays. \n",
    "    The syntax for array operations is often more concise and expressive."
   ]
  },
  {
   "cell_type": "code",
   "execution_count": null,
   "id": "8c294053-b99e-404c-838e-ad5076b1c9db",
   "metadata": {},
   "outputs": [],
   "source": [
    "3. Find the shape, size and dimension of the following array?\n",
    "\n",
    "[[1, 2, 3, 4]\n",
    "\n",
    "[5, 6, 7, 8],\n",
    "\n",
    "[9, 10, 11, 12]]"
   ]
  },
  {
   "cell_type": "code",
   "execution_count": 4,
   "id": "e827fb63-e1e7-4c70-9b99-78b39d483105",
   "metadata": {},
   "outputs": [
    {
     "data": {
      "text/plain": [
       "array([[ 1,  2,  3,  4],\n",
       "       [ 5,  6,  7,  8],\n",
       "       [ 9, 10, 11, 12]])"
      ]
     },
     "execution_count": 4,
     "metadata": {},
     "output_type": "execute_result"
    }
   ],
   "source": [
    "import numpy as np\n",
    "arr1 = np.array([[1,2,3,4],\n",
    "                [5,6,7,8],\n",
    "                [9,10,11,12]])\n",
    "arr1"
   ]
  },
  {
   "cell_type": "code",
   "execution_count": 5,
   "id": "c580bf01-b7ae-479c-bd75-45127a7ba87f",
   "metadata": {},
   "outputs": [
    {
     "data": {
      "text/plain": [
       "(3, 4)"
      ]
     },
     "execution_count": 5,
     "metadata": {},
     "output_type": "execute_result"
    }
   ],
   "source": [
    "arr1.shape"
   ]
  },
  {
   "cell_type": "code",
   "execution_count": 6,
   "id": "30344ad4-c1e6-42cc-841f-299dc8438eb0",
   "metadata": {},
   "outputs": [
    {
     "data": {
      "text/plain": [
       "12"
      ]
     },
     "execution_count": 6,
     "metadata": {},
     "output_type": "execute_result"
    }
   ],
   "source": [
    "arr1.size"
   ]
  },
  {
   "cell_type": "code",
   "execution_count": 7,
   "id": "fe61bc7a-e61f-468c-914b-bec1cf675de4",
   "metadata": {},
   "outputs": [
    {
     "data": {
      "text/plain": [
       "2"
      ]
     },
     "execution_count": 7,
     "metadata": {},
     "output_type": "execute_result"
    }
   ],
   "source": [
    "arr1.ndim"
   ]
  },
  {
   "cell_type": "code",
   "execution_count": null,
   "id": "bb253427-4fb3-4334-b5bc-4b755df27564",
   "metadata": {},
   "outputs": [],
   "source": [
    "4. Write python code to access the first row of the following array?\n",
    "\n",
    "[[1, 2, 3, 4]\n",
    "\n",
    "[5, 6, 7, 8],\n",
    "\n",
    "[9, 10, 11, 12]"
   ]
  },
  {
   "cell_type": "code",
   "execution_count": 8,
   "id": "5d926bea-cbe9-41ce-acda-5f97d8b5554d",
   "metadata": {},
   "outputs": [
    {
     "data": {
      "text/plain": [
       "array([[ 1,  2,  3,  4],\n",
       "       [ 5,  6,  7,  8],\n",
       "       [ 9, 10, 11, 12]])"
      ]
     },
     "execution_count": 8,
     "metadata": {},
     "output_type": "execute_result"
    }
   ],
   "source": [
    "arr1"
   ]
  },
  {
   "cell_type": "code",
   "execution_count": 9,
   "id": "5d1ca240-dbf8-47f1-be25-8cb30b6faebf",
   "metadata": {},
   "outputs": [
    {
     "name": "stdout",
     "output_type": "stream",
     "text": [
      "first row of the array [1 2 3 4]\n"
     ]
    }
   ],
   "source": [
    "import numpy as np \n",
    "arr1\n",
    "first_row = arr1[0] ## Access the first row\n",
    "\n",
    "print(\"first row of the array\",first_row) ##print the result\n"
   ]
  },
  {
   "cell_type": "code",
   "execution_count": null,
   "id": "394b8561-5025-4009-84ad-21ff08ee4a53",
   "metadata": {},
   "outputs": [],
   "source": [
    "5. How do you access the element at the third row and fourth column from the given numpy array?\n",
    "\n",
    "[[1, 2, 3, 4]\n",
    "\n",
    "[5, 6, 7, 8],\n",
    "\n",
    "[9, 10, 11, 12]"
   ]
  },
  {
   "cell_type": "code",
   "execution_count": 10,
   "id": "79f7327d-cb33-4c3d-a61d-f5025b6b25c3",
   "metadata": {},
   "outputs": [
    {
     "data": {
      "text/plain": [
       "array([[ 1,  2,  3,  4],\n",
       "       [ 5,  6,  7,  8],\n",
       "       [ 9, 10, 11, 12]])"
      ]
     },
     "execution_count": 10,
     "metadata": {},
     "output_type": "execute_result"
    }
   ],
   "source": [
    "arr1"
   ]
  },
  {
   "cell_type": "code",
   "execution_count": 11,
   "id": "7d315473-fe4c-4b9d-93ef-5281e314209a",
   "metadata": {},
   "outputs": [
    {
     "data": {
      "text/plain": [
       "12"
      ]
     },
     "execution_count": 11,
     "metadata": {},
     "output_type": "execute_result"
    }
   ],
   "source": [
    "arr1[2,3]"
   ]
  },
  {
   "cell_type": "code",
   "execution_count": null,
   "id": "dcf78c63-3e5e-4d79-95e7-fcd9aafae69b",
   "metadata": {},
   "outputs": [],
   "source": [
    "6. Write code to extract all odd-indexed elements from the given numpy array?\n",
    "\n",
    "[[1, 2, 3, 4]\n",
    "\n",
    "[5, 6, 7, 8],\n",
    "\n",
    "[9, 10, 11, 12]"
   ]
  },
  {
   "cell_type": "code",
   "execution_count": 12,
   "id": "21a94382-63c5-4166-8f53-c586b2aa1290",
   "metadata": {},
   "outputs": [
    {
     "name": "stdout",
     "output_type": "stream",
     "text": [
      "Odd-indexed elements:\n",
      "[[ 2  4]\n",
      " [ 6  8]\n",
      " [10 12]]\n"
     ]
    }
   ],
   "source": [
    "import numpy as np\n",
    "\n",
    "# Given NumPy array\n",
    "arr = np.array([[1, 2, 3, 4],\n",
    "                [5, 6, 7, 8],\n",
    "                [9, 10, 11, 12]])\n",
    "\n",
    "# Extracting odd-indexed elements\n",
    "odd_indexed_elements = arr[:, 1::2]\n",
    "\n",
    "print(\"Odd-indexed elements:\")\n",
    "print(odd_indexed_elements)\n",
    "\n"
   ]
  },
  {
   "cell_type": "code",
   "execution_count": null,
   "id": "ee1547c1-ae7e-49bf-9021-f8890dee321a",
   "metadata": {},
   "outputs": [],
   "source": [
    "7. How can you generate a ranodm 3x3 matrix with values between 0 and 1?"
   ]
  },
  {
   "cell_type": "code",
   "execution_count": 13,
   "id": "1de10adf-6312-41a3-9cd5-933f5b844588",
   "metadata": {},
   "outputs": [
    {
     "data": {
      "text/plain": [
       "array([[1, 1, 0],\n",
       "       [1, 0, 1],\n",
       "       [1, 1, 0]])"
      ]
     },
     "execution_count": 13,
     "metadata": {},
     "output_type": "execute_result"
    }
   ],
   "source": [
    "import numpy as np\n",
    "np.random.randint(0,2,(3,3))"
   ]
  },
  {
   "cell_type": "code",
   "execution_count": null,
   "id": "719c5003-6bf3-44e4-9290-12856a6e0239",
   "metadata": {},
   "outputs": [],
   "source": [
    "8. Describe the difference between np.random.rand and np.random.randn?"
   ]
  },
  {
   "cell_type": "code",
   "execution_count": null,
   "id": "98de1399-0b37-4eb0-9d68-211b282a07e8",
   "metadata": {},
   "outputs": [],
   "source": [
    "np.random.rand:\n",
    "Generates random values from a uniform distribution in the half-open interval [0.0, 1.0).\n",
    "Takes shape parameters as separate arguments.\n",
    "The values generated are between 0 (inclusive) and 1 (exclusive).\n",
    "                                                                               \n",
    "np.random.randn:\n",
    "Generates random values from a standard normal (Gaussian) distribution with a mean of 0 and a standard deviation of 1.\n",
    "Takes shape parameters as separate arguments.\n",
    "The generated values can be positive or negative, and they follow a bell-shaped curve around the mean (0). \n",
    "                                                                        \n",
    "In short, np.random.rand generates values from a uniform distribution in a specific range, \n",
    "while np.random.randn generates values from a standard normal distribution with mean 0 and standard deviation 1.\n",
    "The choice between them depends on the distribution you need for your particular use case.\n"
   ]
  },
  {
   "cell_type": "code",
   "execution_count": null,
   "id": "07dcdd57-87ec-4ea0-9b66-0b308289ea4a",
   "metadata": {},
   "outputs": [],
   "source": [
    "9. Write code to increase the dimension of the following array?\n",
    "\n",
    "[[1, 2, 3, 4]\n",
    "\n",
    "[5, 6, 7, 8],\n",
    "\n",
    "[9, 10, 11, 12]"
   ]
  },
  {
   "cell_type": "code",
   "execution_count": 14,
   "id": "514caea4-1f42-43f6-b0c2-d3166e82d605",
   "metadata": {},
   "outputs": [
    {
     "data": {
      "text/plain": [
       "array([[ 1,  2,  3,  4],\n",
       "       [ 5,  6,  7,  8],\n",
       "       [ 9, 10, 11, 12]])"
      ]
     },
     "execution_count": 14,
     "metadata": {},
     "output_type": "execute_result"
    }
   ],
   "source": [
    "arr"
   ]
  },
  {
   "cell_type": "code",
   "execution_count": 15,
   "id": "675b5c93-c0a8-481d-92d0-6ea3bc46b89d",
   "metadata": {},
   "outputs": [
    {
     "data": {
      "text/plain": [
       "2"
      ]
     },
     "execution_count": 15,
     "metadata": {},
     "output_type": "execute_result"
    }
   ],
   "source": [
    "arr.ndim"
   ]
  },
  {
   "cell_type": "code",
   "execution_count": 16,
   "id": "42977c04-8d7a-4d97-ae18-165624ded790",
   "metadata": {},
   "outputs": [
    {
     "data": {
      "text/plain": [
       "array([[[ 1,  2,  3,  4],\n",
       "        [ 5,  6,  7,  8],\n",
       "        [ 9, 10, 11, 12]]])"
      ]
     },
     "execution_count": 16,
     "metadata": {},
     "output_type": "execute_result"
    }
   ],
   "source": [
    "import numpy as np\n",
    "arr1 = np.expand_dims(arr, axis = 0)\n",
    "arr1"
   ]
  },
  {
   "cell_type": "code",
   "execution_count": 17,
   "id": "9bb842d3-ccfc-40b4-bd20-73afb876ad7a",
   "metadata": {},
   "outputs": [
    {
     "data": {
      "text/plain": [
       "3"
      ]
     },
     "execution_count": 17,
     "metadata": {},
     "output_type": "execute_result"
    }
   ],
   "source": [
    "arr1.ndim ##we increase the dimension of array by expand function."
   ]
  },
  {
   "cell_type": "code",
   "execution_count": null,
   "id": "f1bd35af-5781-462f-995d-04897af42911",
   "metadata": {},
   "outputs": [],
   "source": [
    "10. How to transpose the following array in NumPy?\n",
    "\n",
    "[[1, 2, 3, 4]\n",
    "\n",
    "[5, 6, 7, 8],\n",
    "\n",
    "[9, 10, 11, 12]"
   ]
  },
  {
   "cell_type": "code",
   "execution_count": 18,
   "id": "0a3fc5fa-94d0-4a31-8d94-6605e0eff547",
   "metadata": {},
   "outputs": [
    {
     "data": {
      "text/plain": [
       "array([[ 1,  2,  3,  4],\n",
       "       [ 5,  6,  7,  8],\n",
       "       [ 9, 10, 11, 12]])"
      ]
     },
     "execution_count": 18,
     "metadata": {},
     "output_type": "execute_result"
    }
   ],
   "source": [
    "arr"
   ]
  },
  {
   "cell_type": "code",
   "execution_count": 19,
   "id": "7a129a89-9143-4870-bb8d-a5ab0d369d39",
   "metadata": {},
   "outputs": [
    {
     "data": {
      "text/plain": [
       "array([[ 1,  5,  9],\n",
       "       [ 2,  6, 10],\n",
       "       [ 3,  7, 11],\n",
       "       [ 4,  8, 12]])"
      ]
     },
     "execution_count": 19,
     "metadata": {},
     "output_type": "execute_result"
    }
   ],
   "source": [
    "import numpy as np\n",
    "arr.T"
   ]
  },
  {
   "cell_type": "code",
   "execution_count": null,
   "id": "7b7da6e4-e994-4cc6-adb4-abff4463e58c",
   "metadata": {},
   "outputs": [],
   "source": [
    "11. Consider the following matrix:\n",
    "\n",
    "Matrix A : [[1, 2, 3, 4] [5, 6, 7, 8],[9, 10, 11, 12]]\n",
    "\n",
    "Matrix B : [[1, 2, 3, 4] [5, 6, 7, 8],[9, 10, 11, 12]]\n",
    "\n",
    "\n",
    "Perform the following operation using Python\n",
    "   1)Index wise multiplication\n",
    "    2)Matrix multiplication\n",
    "    3)Add both the matrix\n",
    "    4)Subtract matrix B from A\n",
    "    5)Divide Matrix B by A."
   ]
  },
  {
   "cell_type": "code",
   "execution_count": 20,
   "id": "8d2b788f-b398-4345-aebb-38ad50f28060",
   "metadata": {},
   "outputs": [],
   "source": [
    "import numpy as np"
   ]
  },
  {
   "cell_type": "code",
   "execution_count": 21,
   "id": "0ccd64c1-b3bb-42ac-97b5-c26dd3467f34",
   "metadata": {},
   "outputs": [
    {
     "data": {
      "text/plain": [
       "array([[ 1,  2,  3,  4],\n",
       "       [ 5,  6,  7,  8],\n",
       "       [ 9, 10, 11, 12]])"
      ]
     },
     "execution_count": 21,
     "metadata": {},
     "output_type": "execute_result"
    }
   ],
   "source": [
    "A = np.array([[1, 2, 3, 4],\n",
    "      [5, 6, 7, 8],\n",
    "      [9, 10, 11, 12]])\n",
    "A\n",
    "    "
   ]
  },
  {
   "cell_type": "code",
   "execution_count": 22,
   "id": "99611950-2a1d-4aac-8c31-f0a334bb1791",
   "metadata": {},
   "outputs": [
    {
     "data": {
      "text/plain": [
       "array([[ 1,  2,  3,  4],\n",
       "       [ 5,  6,  7,  8],\n",
       "       [ 9, 10, 11, 12]])"
      ]
     },
     "execution_count": 22,
     "metadata": {},
     "output_type": "execute_result"
    }
   ],
   "source": [
    "B = np.array([[1, 2, 3, 4],\n",
    "     [5, 6, 7, 8],\n",
    "     [9, 10, 11, 12]])\n",
    "B"
   ]
  },
  {
   "cell_type": "code",
   "execution_count": 23,
   "id": "eea4cbba-71ef-4a34-ba97-2d91ec667f2e",
   "metadata": {},
   "outputs": [
    {
     "data": {
      "text/plain": [
       "array([[  1,   4,   9,  16],\n",
       "       [ 25,  36,  49,  64],\n",
       "       [ 81, 100, 121, 144]])"
      ]
     },
     "execution_count": 23,
     "metadata": {},
     "output_type": "execute_result"
    }
   ],
   "source": [
    "A*B ##index wise miltiplication"
   ]
  },
  {
   "cell_type": "code",
   "execution_count": 24,
   "id": "a94643fe-8bb1-4c5f-b8cf-e0a296acb84d",
   "metadata": {},
   "outputs": [
    {
     "data": {
      "text/plain": [
       "array([[ 1,  2,  3,  4],\n",
       "       [ 5,  6,  7,  8],\n",
       "       [ 9, 10, 11, 12]])"
      ]
     },
     "execution_count": 24,
     "metadata": {},
     "output_type": "execute_result"
    }
   ],
   "source": [
    "A"
   ]
  },
  {
   "cell_type": "code",
   "execution_count": 25,
   "id": "ad2f0fd6-5655-485c-acac-6c27b43596d7",
   "metadata": {},
   "outputs": [
    {
     "data": {
      "text/plain": [
       "array([[ 1,  2,  3,  4],\n",
       "       [ 5,  6,  7,  8],\n",
       "       [ 9, 10, 11, 12]])"
      ]
     },
     "execution_count": 25,
     "metadata": {},
     "output_type": "execute_result"
    }
   ],
   "source": [
    "B"
   ]
  },
  {
   "cell_type": "code",
   "execution_count": 26,
   "id": "8ffbd07f-fb6e-420f-9ebc-2cd9f4ebaae7",
   "metadata": {},
   "outputs": [
    {
     "data": {
      "text/plain": [
       "array([[ 1,  5,  9],\n",
       "       [ 2,  6, 10],\n",
       "       [ 3,  7, 11],\n",
       "       [ 4,  8, 12]])"
      ]
     },
     "execution_count": 26,
     "metadata": {},
     "output_type": "execute_result"
    }
   ],
   "source": [
    "B.T"
   ]
  },
  {
   "cell_type": "code",
   "execution_count": 27,
   "id": "8cbb1da0-cfb4-4d40-adc8-583611865047",
   "metadata": {},
   "outputs": [
    {
     "data": {
      "text/plain": [
       "array([[ 30,  70, 110],\n",
       "       [ 70, 174, 278],\n",
       "       [110, 278, 446]])"
      ]
     },
     "execution_count": 27,
     "metadata": {},
     "output_type": "execute_result"
    }
   ],
   "source": [
    "A @ B.T"
   ]
  },
  {
   "cell_type": "code",
   "execution_count": 28,
   "id": "7c3bf156-8f0e-40f8-9d0e-c430bd9bb15b",
   "metadata": {},
   "outputs": [
    {
     "data": {
      "text/plain": [
       "array([[ 2,  4,  6,  8],\n",
       "       [10, 12, 14, 16],\n",
       "       [18, 20, 22, 24]])"
      ]
     },
     "execution_count": 28,
     "metadata": {},
     "output_type": "execute_result"
    }
   ],
   "source": [
    "A + B"
   ]
  },
  {
   "cell_type": "code",
   "execution_count": 29,
   "id": "a1555713-1db7-4699-81e6-d50720ac811d",
   "metadata": {},
   "outputs": [
    {
     "data": {
      "text/plain": [
       "array([[0, 0, 0, 0],\n",
       "       [0, 0, 0, 0],\n",
       "       [0, 0, 0, 0]])"
      ]
     },
     "execution_count": 29,
     "metadata": {},
     "output_type": "execute_result"
    }
   ],
   "source": [
    "B - A"
   ]
  },
  {
   "cell_type": "code",
   "execution_count": 30,
   "id": "23e109ca-4b9e-461e-aa42-d2461dc6922d",
   "metadata": {},
   "outputs": [
    {
     "data": {
      "text/plain": [
       "array([[1., 1., 1., 1.],\n",
       "       [1., 1., 1., 1.],\n",
       "       [1., 1., 1., 1.]])"
      ]
     },
     "execution_count": 30,
     "metadata": {},
     "output_type": "execute_result"
    }
   ],
   "source": [
    "B / A"
   ]
  },
  {
   "cell_type": "code",
   "execution_count": null,
   "id": "422c7c02-cba0-4d9b-83f6-3eb433910541",
   "metadata": {},
   "outputs": [],
   "source": [
    "12.  Which function in Numpy can be used to swap the byte order of an array"
   ]
  },
  {
   "cell_type": "code",
   "execution_count": null,
   "id": "4c0326ac-5162-4e04-9b9f-0595f2b897f1",
   "metadata": {},
   "outputs": [],
   "source": [
    "\"byteswap\" function is uesd in numpy to swap the byte of order of an array."
   ]
  },
  {
   "cell_type": "code",
   "execution_count": null,
   "id": "35da1fe2-f5ab-4348-8862-9fdc39f684d2",
   "metadata": {},
   "outputs": [],
   "source": [
    "13.  What is the significance of the np.linalg.inv function?"
   ]
  },
  {
   "cell_type": "code",
   "execution_count": null,
   "id": "9779e332-95fc-4def-ae34-29c755616302",
   "metadata": {},
   "outputs": [],
   "source": [
    "The np.linalg.inv function in NumPy is used to compute the multiplicative inverse of a matrix. In other words, \n",
    "if you have a square matrix A, the result of np.linalg.inv(A) is a matrix B such that A.dot(B) = B.dot(A) = np.eye(A.shape[0]),\n",
    "where np.eye is the identity matrix.\n",
    "\n",
    "Here are some key points about the significance of np.linalg.inv:\n",
    "\n",
    "Solving Linear Systems:\n",
    "    One of the primary applications is solving systems of linear equations. If you have a system of equations represented\n",
    "    as Ax = b, where A is a square matrix of coefficients, x is the vector of variables, and b is the vector of constants, \n",
    "    you can solve for x by taking the inverse of matrix A: x = np.linalg.inv(A).dot(b).\n",
    "\n",
    "Matrix Equations:\n",
    "    It is used in solving matrix equations of the form AX = B where A, X, and B are matrices. If you know A and B,\n",
    "    you can find X by using X = np.linalg.inv(A).dot(B).\n",
    "\n",
    "Eigenvalue Problems: \n",
    "    It is also used in solving eigenvalue problems, as the inverse of a matrix is related to its eigenvalues and eigenvectors.\n",
    "\n",
    "It's important to note that not all matrices have inverses. A matrix must be square and have a non-zero determinant for\n",
    "its inverse to exist. If the matrix is singular (having a determinant of 0), the np.linalg.inv function will raise a LinAlgError.\n",
    "Therefore, it's a good practice to check the determinant before attempting to compute the inverse.\n"
   ]
  },
  {
   "cell_type": "code",
   "execution_count": null,
   "id": "2ec58a84-d42d-487e-9440-743d336a6f4c",
   "metadata": {},
   "outputs": [],
   "source": [
    "14. What does the np.reshape function do, and how is it used?"
   ]
  },
  {
   "cell_type": "code",
   "execution_count": null,
   "id": "90c517a7-bde2-48e9-871a-43fec2c020de",
   "metadata": {},
   "outputs": [],
   "source": [
    "The np.reshape function in NumPy is used to change the shape of an array without changing its data. \n",
    "It allows you to reorganize the elements of an array into a different shape while maintaining the same data.\n",
    "\n",
    "The basic syntax for np.reshape is:\n",
    "               numpy.reshape(array, newshape, order='C')\n",
    "        \n",
    "array: The array you want to reshape.\n",
    "newshape: The new shape you want for the array. It can be a tuple specifying the new dimensions.\n",
    "order: (Optional) It specifies the order in which the elements are read from the original array during reshaping. \n",
    "It can be 'C' (row-major, default) or 'F' (column-major).\n",
    "Here's an example of how to use np.reshape :              \n"
   ]
  },
  {
   "cell_type": "code",
   "execution_count": 31,
   "id": "7d70df70-22ef-4cd3-bcd6-d884ce5b8234",
   "metadata": {},
   "outputs": [
    {
     "name": "stdout",
     "output_type": "stream",
     "text": [
      "[[1 2 3]\n",
      " [4 5 6]]\n"
     ]
    }
   ],
   "source": [
    "import numpy as np\n",
    "\n",
    "    # Create a 1D arr\n",
    "arr = np.array([1, 2, 3, 4, 5, 6])\n",
    "\n",
    "  # Reshape the array to a 2x3 matrix\n",
    "reshaped_arr = np.reshape(arr, (2, 3))\n",
    "\n",
    "print(reshaped_arr)"
   ]
  },
  {
   "cell_type": "code",
   "execution_count": null,
   "id": "ed569b13-09b7-44fa-8e09-c7855644b129",
   "metadata": {},
   "outputs": [],
   "source": [
    "15. What is broadcasting in Numpy?"
   ]
  },
  {
   "cell_type": "code",
   "execution_count": null,
   "id": "129962c4-eca5-4c29-813a-5907bcc823d2",
   "metadata": {},
   "outputs": [],
   "source": [
    "Broadcasting in NumPy is a powerful mechanism that allows NumPy to perform operations on arrays of different shapes \n",
    "and sizes, making it possible to operate on these arrays element-wise without the need for explicit looping.\n",
    "Broadcasting is particularly useful when working with arrays of different shapes in a concise and efficient manner.\n",
    "\n",
    "The fundamental concept behind broadcasting is extending smaller arrays so that they have compatible shapes\n",
    "for arithmetic operations. NumPy automatically performs the necessary operations to make the shapes compatible,\n",
    "effectively replicating or \"broadcasting\" the smaller array to match the shape of the larger one.\n",
    "\n",
    "The rules of broadcasting in NumPy are as follows:\n",
    "\n",
    "1)If the arrays have a different number of dimensions:\n",
    "               If one of the arrays has fewer dimensions, pad its shape on the left with ones until the dimensions match.\n",
    "The sizes of the dimensions are compared element-wise, starting from the right. The dimensions are compatible if they are \n",
    "equal or one of them is 1. If neither condition is met, a ValueError is raised.\n",
    "\n",
    "2)If the arrays have the same number of dimensions:\n",
    "            The sizes of the dimensions are compared element-wise, starting from the right. The dimensions are compatible\n",
    "if they are equal or one of them is 1. If neither condition is met, a ValueError is raised.\n",
    "\n",
    "Broadcasting allows you to write concise and readable code while performing operations on arrays with different shapes.\n",
    "\n",
    "Here's a simple example to illustrate broadcasting:"
   ]
  },
  {
   "cell_type": "code",
   "execution_count": 32,
   "id": "b0e4cc0a-e05a-4949-b465-4e2bb5dca34b",
   "metadata": {},
   "outputs": [
    {
     "name": "stdout",
     "output_type": "stream",
     "text": [
      "[[11 22 33]\n",
      " [14 25 36]]\n"
     ]
    }
   ],
   "source": [
    "import numpy as np\n",
    "\n",
    "# A 2x3 array\n",
    "arr1 = np.array([[1, 2, 3],\n",
    "                 [4, 5, 6]])\n",
    "\n",
    "# A 1x3 array\n",
    "arr2 = np.array([10, 20, 30])\n",
    "\n",
    "# Broadcasting the 1x3 array to the shape of the 2x3 array\n",
    "result = arr1 + arr2\n",
    "\n",
    "print(result)"
   ]
  }
 ],
 "metadata": {
  "kernelspec": {
   "display_name": "Python 3 (ipykernel)",
   "language": "python",
   "name": "python3"
  },
  "language_info": {
   "codemirror_mode": {
    "name": "ipython",
    "version": 3
   },
   "file_extension": ".py",
   "mimetype": "text/x-python",
   "name": "python",
   "nbconvert_exporter": "python",
   "pygments_lexer": "ipython3",
   "version": "3.10.8"
  }
 },
 "nbformat": 4,
 "nbformat_minor": 5
}
